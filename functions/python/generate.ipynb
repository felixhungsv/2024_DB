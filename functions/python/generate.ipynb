{
 "cells": [
  {
   "cell_type": "code",
   "execution_count": 1,
   "metadata": {},
   "outputs": [],
   "source": [
    "import pandas as pd\n",
    "import duckdb\n",
    "import psycopg2\n",
    "import string\n",
    "import random\n",
    "from faker import Faker\n",
    "import pinyin\n",
    "from datetime import datetime, timedelta\n",
    "fake = Faker('zh_TW')\n",
    "\n",
    "# Helper function to generate random timestamps\n",
    "def random_timestamp(start_date, end_date):\n",
    "    delta = end_date - start_date\n",
    "    random_seconds = random.randint(0, int(delta.total_seconds()))\n",
    "    return start_date + timedelta(seconds=random_seconds)\n",
    "\n",
    "num_items = 3000\n",
    "num_users = 5000\n",
    "num_locations = 50\n",
    "num_categories = 50\n",
    "num_feedbacks = 500 \n",
    "num_notifies = 100\n",
    "num_comments = 1000 \n",
    "num_messages = 100"
   ]
  },
  {
   "cell_type": "markdown",
   "metadata": {},
   "source": [
    "### 1. 連線資料庫"
   ]
  },
  {
   "cell_type": "code",
   "execution_count": 2,
   "metadata": {},
   "outputs": [
    {
     "name": "stderr",
     "output_type": "stream",
     "text": [
      "/var/folders/y6/fdlf2f113hdd9mwtf7h1m_2r0000gn/T/ipykernel_3509/2643837570.py:11: UserWarning: pandas only supports SQLAlchemy connectable (engine/connection) or database string URI or sqlite3 DBAPI2 connection. Other DBAPI2 objects are not tested. Please consider using SQLAlchemy.\n",
      "  df = pd.read_sql_query(query_str, psql_conn)\n",
      "/var/folders/y6/fdlf2f113hdd9mwtf7h1m_2r0000gn/T/ipykernel_3509/2643837570.py:11: UserWarning: pandas only supports SQLAlchemy connectable (engine/connection) or database string URI or sqlite3 DBAPI2 connection. Other DBAPI2 objects are not tested. Please consider using SQLAlchemy.\n",
      "  df = pd.read_sql_query(query_str, psql_conn)\n",
      "/var/folders/y6/fdlf2f113hdd9mwtf7h1m_2r0000gn/T/ipykernel_3509/2643837570.py:11: UserWarning: pandas only supports SQLAlchemy connectable (engine/connection) or database string URI or sqlite3 DBAPI2 connection. Other DBAPI2 objects are not tested. Please consider using SQLAlchemy.\n",
      "  df = pd.read_sql_query(query_str, psql_conn)\n",
      "/var/folders/y6/fdlf2f113hdd9mwtf7h1m_2r0000gn/T/ipykernel_3509/2643837570.py:11: UserWarning: pandas only supports SQLAlchemy connectable (engine/connection) or database string URI or sqlite3 DBAPI2 connection. Other DBAPI2 objects are not tested. Please consider using SQLAlchemy.\n",
      "  df = pd.read_sql_query(query_str, psql_conn)\n",
      "/var/folders/y6/fdlf2f113hdd9mwtf7h1m_2r0000gn/T/ipykernel_3509/2643837570.py:11: UserWarning: pandas only supports SQLAlchemy connectable (engine/connection) or database string URI or sqlite3 DBAPI2 connection. Other DBAPI2 objects are not tested. Please consider using SQLAlchemy.\n",
      "  df = pd.read_sql_query(query_str, psql_conn)\n",
      "/var/folders/y6/fdlf2f113hdd9mwtf7h1m_2r0000gn/T/ipykernel_3509/2643837570.py:11: UserWarning: pandas only supports SQLAlchemy connectable (engine/connection) or database string URI or sqlite3 DBAPI2 connection. Other DBAPI2 objects are not tested. Please consider using SQLAlchemy.\n",
      "  df = pd.read_sql_query(query_str, psql_conn)\n",
      "/var/folders/y6/fdlf2f113hdd9mwtf7h1m_2r0000gn/T/ipykernel_3509/2643837570.py:11: UserWarning: pandas only supports SQLAlchemy connectable (engine/connection) or database string URI or sqlite3 DBAPI2 connection. Other DBAPI2 objects are not tested. Please consider using SQLAlchemy.\n",
      "  df = pd.read_sql_query(query_str, psql_conn)\n",
      "/var/folders/y6/fdlf2f113hdd9mwtf7h1m_2r0000gn/T/ipykernel_3509/2643837570.py:11: UserWarning: pandas only supports SQLAlchemy connectable (engine/connection) or database string URI or sqlite3 DBAPI2 connection. Other DBAPI2 objects are not tested. Please consider using SQLAlchemy.\n",
      "  df = pd.read_sql_query(query_str, psql_conn)\n",
      "/var/folders/y6/fdlf2f113hdd9mwtf7h1m_2r0000gn/T/ipykernel_3509/2643837570.py:11: UserWarning: pandas only supports SQLAlchemy connectable (engine/connection) or database string URI or sqlite3 DBAPI2 connection. Other DBAPI2 objects are not tested. Please consider using SQLAlchemy.\n",
      "  df = pd.read_sql_query(query_str, psql_conn)\n",
      "/var/folders/y6/fdlf2f113hdd9mwtf7h1m_2r0000gn/T/ipykernel_3509/2643837570.py:11: UserWarning: pandas only supports SQLAlchemy connectable (engine/connection) or database string URI or sqlite3 DBAPI2 connection. Other DBAPI2 objects are not tested. Please consider using SQLAlchemy.\n",
      "  df = pd.read_sql_query(query_str, psql_conn)\n",
      "/var/folders/y6/fdlf2f113hdd9mwtf7h1m_2r0000gn/T/ipykernel_3509/2643837570.py:11: UserWarning: pandas only supports SQLAlchemy connectable (engine/connection) or database string URI or sqlite3 DBAPI2 connection. Other DBAPI2 objects are not tested. Please consider using SQLAlchemy.\n",
      "  df = pd.read_sql_query(query_str, psql_conn)\n",
      "/var/folders/y6/fdlf2f113hdd9mwtf7h1m_2r0000gn/T/ipykernel_3509/2643837570.py:11: UserWarning: pandas only supports SQLAlchemy connectable (engine/connection) or database string URI or sqlite3 DBAPI2 connection. Other DBAPI2 objects are not tested. Please consider using SQLAlchemy.\n",
      "  df = pd.read_sql_query(query_str, psql_conn)\n",
      "/var/folders/y6/fdlf2f113hdd9mwtf7h1m_2r0000gn/T/ipykernel_3509/2643837570.py:11: UserWarning: pandas only supports SQLAlchemy connectable (engine/connection) or database string URI or sqlite3 DBAPI2 connection. Other DBAPI2 objects are not tested. Please consider using SQLAlchemy.\n",
      "  df = pd.read_sql_query(query_str, psql_conn)\n",
      "/var/folders/y6/fdlf2f113hdd9mwtf7h1m_2r0000gn/T/ipykernel_3509/2643837570.py:11: UserWarning: pandas only supports SQLAlchemy connectable (engine/connection) or database string URI or sqlite3 DBAPI2 connection. Other DBAPI2 objects are not tested. Please consider using SQLAlchemy.\n",
      "  df = pd.read_sql_query(query_str, psql_conn)\n",
      "/var/folders/y6/fdlf2f113hdd9mwtf7h1m_2r0000gn/T/ipykernel_3509/2643837570.py:11: UserWarning: pandas only supports SQLAlchemy connectable (engine/connection) or database string URI or sqlite3 DBAPI2 connection. Other DBAPI2 objects are not tested. Please consider using SQLAlchemy.\n",
      "  df = pd.read_sql_query(query_str, psql_conn)\n",
      "/var/folders/y6/fdlf2f113hdd9mwtf7h1m_2r0000gn/T/ipykernel_3509/2643837570.py:11: UserWarning: pandas only supports SQLAlchemy connectable (engine/connection) or database string URI or sqlite3 DBAPI2 connection. Other DBAPI2 objects are not tested. Please consider using SQLAlchemy.\n",
      "  df = pd.read_sql_query(query_str, psql_conn)\n",
      "/var/folders/y6/fdlf2f113hdd9mwtf7h1m_2r0000gn/T/ipykernel_3509/2643837570.py:11: UserWarning: pandas only supports SQLAlchemy connectable (engine/connection) or database string URI or sqlite3 DBAPI2 connection. Other DBAPI2 objects are not tested. Please consider using SQLAlchemy.\n",
      "  df = pd.read_sql_query(query_str, psql_conn)\n"
     ]
    }
   ],
   "source": [
    "with open('db_password.txt', 'r') as file:\n",
    "    db_password = file.read().strip()\n",
    "\n",
    "psql_conn = psycopg2.connect(\"dbname = 'DB_FP' user = 'postgres' host = 'localhost' password = \" + db_password)\n",
    "\n",
    "table_names = ['item', 'lost_item', 'found_item', 'users', 'locations', 'locates', 'stores', 'returns_or_claims', 'category', 'belongs', 'posts', 'members', 'comments', 'message', 'feedback', 'notifies', 'reward'] \n",
    "con = duckdb.connect()\n",
    "\n",
    "for table_name in table_names:\n",
    "    query_str = \"SELECT * FROM \" + table_name\n",
    "    df = pd.read_sql_query(query_str, psql_conn)\n",
    "    con.register(table_name, df)\n",
    "\n",
    "psql_conn.close()"
   ]
  },
  {
   "cell_type": "code",
   "execution_count": 3,
   "metadata": {},
   "outputs": [
    {
     "data": {
      "text/plain": [
       "'\\n# 建立 PostgreSQL 連線\\npsql_conn = psycopg2.connect(\\n    dbname=\\'DB_FP\\',\\n    user=\\'postgres\\',\\n    host=\\'localhost\\',\\n    password=db_password\\n)\\n\\n# 表名列表\\ntable_names = [\\n    \\'item\\', \\'lost_item\\', \\'found_item\\', \\'users\\', \\'locations\\', \\'locates\\', \\n    \\'stores\\', \\'returns_or_claims\\', \\'category\\', \\'belongs\\', \\'posts\\', \\'members\\', \\n    \\'comments\\', \\'message\\', \\'feedback\\', \\'notifies\\', \\'reward\\'\\n]\\n\\n# 建立游標\\ncursor = psql_conn.cursor()\\n\\n# 使用 DELETE FROM 刪除表中的內容\\nfor table_name in table_names:\\n    delete_query = f\"DELETE FROM {table_name};\"\\n    cursor.execute(delete_query)\\n    print(f\"Deleted data from table: {table_name}\")\\n\\n# 提交更改\\npsql_conn.commit()\\n\\n# 關閉游標和連線\\ncursor.close()\\npsql_conn.close()\\nprint(\"All tables have been cleared.\")'"
      ]
     },
     "execution_count": 3,
     "metadata": {},
     "output_type": "execute_result"
    }
   ],
   "source": [
    "'''\n",
    "# 建立 PostgreSQL 連線\n",
    "psql_conn = psycopg2.connect(\n",
    "    dbname='DB_FP',\n",
    "    user='postgres',\n",
    "    host='localhost',\n",
    "    password=db_password\n",
    ")\n",
    "\n",
    "# 表名列表\n",
    "table_names = [\n",
    "    'item', 'lost_item', 'found_item', 'users', 'locations', 'locates', \n",
    "    'stores', 'returns_or_claims', 'category', 'belongs', 'posts', 'members', \n",
    "    'comments', 'message', 'feedback', 'notifies', 'reward'\n",
    "]\n",
    "\n",
    "# 建立游標\n",
    "cursor = psql_conn.cursor()\n",
    "\n",
    "# 使用 DELETE FROM 刪除表中的內容\n",
    "for table_name in table_names:\n",
    "    delete_query = f\"DELETE FROM {table_name};\"\n",
    "    cursor.execute(delete_query)\n",
    "    print(f\"Deleted data from table: {table_name}\")\n",
    "\n",
    "# 提交更改\n",
    "psql_conn.commit()\n",
    "\n",
    "# 關閉游標和連線\n",
    "cursor.close()\n",
    "psql_conn.close()\n",
    "print(\"All tables have been cleared.\")'''"
   ]
  },
  {
   "cell_type": "code",
   "execution_count": 4,
   "metadata": {},
   "outputs": [],
   "source": [
    "# function that sees SQL command AS input and output table from database\n",
    "def query(query):\n",
    "    result = con.execute(query).fetchall()\n",
    "    column_names = [desc[0] for desc in con.description]\n",
    "    return column_names, result"
   ]
  },
  {
   "cell_type": "markdown",
   "metadata": {},
   "source": [
    "### 2. Item"
   ]
  },
  {
   "cell_type": "code",
   "execution_count": 5,
   "metadata": {},
   "outputs": [
    {
     "data": {
      "text/plain": [
       "[{'ItemID': 'IT00000001',\n",
       "  'Description': '粉色的書本',\n",
       "  'ImageURL': 'https://picsum.photos/819/1'},\n",
       " {'ItemID': 'IT00000002',\n",
       "  'Description': '簡約的水杯',\n",
       "  'ImageURL': 'https://picsum.photos/420/311'},\n",
       " {'ItemID': 'IT00000003',\n",
       "  'Description': '白色的手冊',\n",
       "  'ImageURL': 'https://placekitten.com/592/735'},\n",
       " {'ItemID': 'IT00000004',\n",
       "  'Description': '復古的水杯',\n",
       "  'ImageURL': 'https://placekitten.com/621/131'},\n",
       " {'ItemID': 'IT00000005',\n",
       "  'Description': '高科技的手鏈',\n",
       "  'ImageURL': 'https://placekitten.com/541/242'}]"
      ]
     },
     "execution_count": 5,
     "metadata": {},
     "output_type": "execute_result"
    }
   ],
   "source": [
    "adjectives = [\n",
    "    \"粉色的\", \"藍色的\", \"綠色的\", \"黃色的\", \"紫色的\", \"紅色的\", \"白色的\", \"黑色的\", \n",
    "    \"金色的\", \"銀色的\", \"透明的\", \"可愛的\", \"簡約的\", \"豪華的\", \"復古的\", \"小巧的\",\n",
    "    \"實用的\", \"新穎的\", \"時尚的\", \"高科技的\", \"耐用的\", \"輕便的\", \"便攜的\", \"環保的\",\n",
    "    \"自動的\", \"迷你的\", \"手工的\", \"獨特的\", \"傳統的\", \"現代的\"\n",
    "]\n",
    "\n",
    "nouns = [\n",
    "    \"水壺\", \"筆記本\", \"手機殼\", \"手錶\", \"包包\", \"帽子\", \"雨傘\", \"耳機\",\n",
    "    \"眼鏡\", \"口罩\", \"衣服\", \"鞋子\", \"手套\", \"書本\", \"文件夾\", \"筆袋\",\n",
    "    \"相機\", \"鑰匙\", \"卡片\", \"玩偶\", \"杯子\", \"背包\", \"滑鼠\", \"鍵盤\",\n",
    "    \"行李箱\", \"手電筒\", \"蠟燭\", \"圍巾\", \"電腦\", \"充電器\", \"吊飾\", \"徽章\",\n",
    "    \"手鏈\", \"項鍊\", \"戒指\", \"印章\", \"筆\", \"小刀\", \"日曆\", \"掛鐘\", \n",
    "    \"音響\", \"火柴\", \"剪刀\", \"水杯\", \"錢包\", \"鬧鐘\", \"運動鞋\", \"手冊\", \n",
    "    \"收音機\", \"地圖\", \"日記本\", \"粉餅盒\", \"眼影盤\", \"行動電源\", \"遙控器\", \n",
    "    \"腳踏車\", \"望遠鏡\", \"毛巾\", \"電動牙刷\", \"枕頭\", \"毛毯\", \"衣架\", \"雨靴\",\n",
    "    \"學生證\", \"鏡子\", \"梳子\"\n",
    "]\n",
    "\n",
    "item_descriptions = []\n",
    "while len(item_descriptions) < num_items:\n",
    "    item_description = f\"{random.choice(adjectives)}{random.choice(nouns)}\"\n",
    "    item_descriptions.append(item_description)\n",
    "\n",
    "\n",
    "items = [\n",
    "    {\n",
    "        \"ItemID\": f\"IT{str(i).zfill(8)}\",\n",
    "        \"Description\": item_descriptions[i - 1],\n",
    "        \"ImageURL\": fake.image_url()\n",
    "    }\n",
    "    for i in range(1, num_items + 1)\n",
    "]\n",
    "items[0:5]"
   ]
  },
  {
   "cell_type": "code",
   "execution_count": 6,
   "metadata": {},
   "outputs": [],
   "source": [
    "# Connect to PostgreSQL database\n",
    "psql_conn = psycopg2.connect(\"dbname = 'DB_FP' user = 'postgres' host = 'localhost' password = \" + db_password)\n",
    "cursor = psql_conn.cursor()\n",
    "\n",
    "# Insert data into the 'item' table\n",
    "for item in items:\n",
    "    # Create the SQL insert statement\n",
    "    insert_query = \"\"\"\n",
    "    INSERT INTO item (ItemID, Description, ImageURL) \n",
    "    VALUES (%s, %s, %s)\n",
    "    \"\"\"\n",
    "    # Execute the insert statement\n",
    "    cursor.execute(insert_query, (item['ItemID'], item['Description'], item['ImageURL']))\n",
    "\n",
    "# Commit the transaction\n",
    "psql_conn.commit()\n",
    "\n",
    "# Close the cursor and connection\n",
    "cursor.close()\n",
    "psql_conn.close()"
   ]
  },
  {
   "cell_type": "markdown",
   "metadata": {},
   "source": [
    "### 3. Users"
   ]
  },
  {
   "cell_type": "code",
   "execution_count": 7,
   "metadata": {},
   "outputs": [
    {
     "data": {
      "text/plain": [
       "[{'UserID': 'US00000001',\n",
       "  'UserName': '滕怡芬',\n",
       "  'Email': 'tengyifen87@gmail.com',\n",
       "  'PhoneNumber': '0994569817'},\n",
       " {'UserID': 'US00000002',\n",
       "  'UserName': '廖欣芮',\n",
       "  'Email': 'liaoxinrui79@gmail.com',\n",
       "  'PhoneNumber': '0973768715'},\n",
       " {'UserID': 'US00000003',\n",
       "  'UserName': '毛雯美',\n",
       "  'Email': 'maowenmei99@gmail.com',\n",
       "  'PhoneNumber': '0986493421'},\n",
       " {'UserID': 'US00000004',\n",
       "  'UserName': '林嘉育',\n",
       "  'Email': 'linjiayu7@gmail.com',\n",
       "  'PhoneNumber': '0991371851'},\n",
       " {'UserID': 'US00000005',\n",
       "  'UserName': '巴俞海',\n",
       "  'Email': 'bayuhai21@gmail.com',\n",
       "  'PhoneNumber': '0917666846'}]"
      ]
     },
     "execution_count": 7,
     "metadata": {},
     "output_type": "execute_result"
    }
   ],
   "source": [
    "# 姓氏和名字的選項\n",
    "last_name_chars = [\n",
    "    \"王\", \"李\", \"陳\", \"林\", \"黃\", \"張\", \"吳\", \"劉\", \"蔡\", \"楊\", \"許\", \"鄭\", \"謝\", \"郭\", \"洪\", \"曾\", \"東方\",\n",
    "    \"馮\", \"方\", \"朱\", \"肖\", \"田\", \"孔\", \"董\", \"崔\", \"康\", \"曹\", \"程\", \"梁\", \"羅\", \"沈\", \"蘇\", \"馬\", \"上官\",\n",
    "    \"嚴\", \"阮\", \"侯\", \"邵\", \"魏\", \"潘\", \"盧\", \"譚\", \"廖\", \"范\", \"杜\", \"阮\", \"邱\", \"高\", \"葉\", \"孫\", \"司馬\",\n",
    "    \"江\", \"毛\", \"余\", \"錢\", \"戴\", \"柳\", \"卓\", \"宗\", \"龔\", \"莫\", \"夏\", \"冉\", \"滕\", \"武\", \"甄\", \"歐陽\", \"皇甫\",\n",
    "    \"龍\", \"郝\", \"梅\", \"韓\", \"秦\", \"柴\", \"易\", \"辛\", \"紀\", \"古\", \"尤\", \"巴\", \"陸\", \"單\", \"唐\", \"端木\", \"諸葛\"\n",
    "]\n",
    "\n",
    "first_name_chars = [\n",
    "    \"俊\", \"明\", \"婌\", \"美\", \"佳\", \"玲\", \"志\", \"偉\", \"建\", \"宏\", \"婷\", \"宇\", \"軒\", \"家\", \"豪\", \"怡\", \"鐸\",\n",
    "    \"君\", \"靜\", \"宜\", \"傑\", \"淑\", \"芬\", \"冠\", \"霖\", \"雅\", \"詩\", \"涵\", \"欣\", \"柏\", \"宇\", \"嘉\", \"豪\", \"嵩\", \n",
    "    \"惠\", \"玲\", \"輝\", \"國\", \"峰\", \"心\", \"潔\", \"慧\", \"如\", \"沛\", \"蓉\", \"韋\", \"廷\", \"瑞\", \"昌\", \"艾\", \"松\",\n",
    "    \"莉\", \"綺\", \"妍\", \"宗\", \"翰\", \"昱\", \"廷\", \"承\", \"熙\", \"育\", \"達\", \"海\", \"倫\", \"雯\", \"婷\", \"善\", \"盈\", \n",
    "    \"思\", \"新\", \"玉\", \"俞\", \"瑩\", \"元\", \"光\", \"陽\", \"昀\", \"哲\", \"茜\", \"誠\", \"曉\", \"晴\", \"芮\", \"可\", \"卜\",\n",
    "    \"欣\", \"暘\", \"如\", \"靈\", \"蕙\", \"泓\", \"葦\", \"祐\", \"桐\", \"榆\", \"舟\", \"澄\", \"修\", \"恆\", \"凌\", \"笙\", \"壬\"\n",
    "]\n",
    "\n",
    "# 用戶數據生成\n",
    "users = []\n",
    "usernames = set()  # 用於檢查重複名字\n",
    "\n",
    "while len(users) < num_users:\n",
    "    # 隨機生成單字姓氏\n",
    "    last_name = random.choice(last_name_chars)\n",
    "    \n",
    "    # 隨機生成名字（兩個字）\n",
    "    first_name = random.choice(first_name_chars) + random.choice(first_name_chars)\n",
    "    \n",
    "    # 全名\n",
    "    full_name = f\"{last_name}{first_name}\"\n",
    "    \n",
    "    # 檢查是否已存在\n",
    "    if full_name in usernames:\n",
    "        continue  # 如果名字重複，跳過此次生成\n",
    "    \n",
    "    # 添加到集合中以避免重複\n",
    "    usernames.add(full_name)\n",
    "    \n",
    "    # 姓名轉拼音\n",
    "    last_name_pinyin = pinyin.get(last_name, format=\"strip\", delimiter=\"\")\n",
    "    first_name_pinyin = pinyin.get(first_name, format=\"strip\", delimiter=\"\")\n",
    "    \n",
    "    # 隨機生成唯一 Email\n",
    "    email = f\"{last_name_pinyin}{first_name_pinyin}{random.randint(1, 99)}@gmail.com\"\n",
    "    \n",
    "    # 組成用戶數據\n",
    "    users.append({\n",
    "        \"UserID\": f\"US{str(len(users) + 1).zfill(8)}\",\n",
    "        \"UserName\": full_name,\n",
    "        \"Email\": email,\n",
    "        \"PhoneNumber\": f\"09{random.randint(10000000, 99999999)}\"\n",
    "    })\n",
    "\n",
    "users[:5]\n"
   ]
  },
  {
   "cell_type": "code",
   "execution_count": 8,
   "metadata": {},
   "outputs": [],
   "source": [
    "# Connect to PostgreSQL database\n",
    "psql_conn = psycopg2.connect(\"dbname = 'DB_FP' user = 'postgres' host = 'localhost' password = \" + db_password)\n",
    "cursor = psql_conn.cursor()\n",
    "\n",
    "# Insert data into the 'users' table\n",
    "for user in users:\n",
    "    # Create the SQL insert statement\n",
    "    insert_query = \"\"\"\n",
    "    INSERT INTO users (UserID, UserName, Email, PhoneNumber) \n",
    "    VALUES (%s, %s, %s, %s)\n",
    "    \"\"\"\n",
    "    # Execute the insert statement\n",
    "    cursor.execute(insert_query, (user['UserID'], user['UserName'], user['Email'], user['PhoneNumber']))\n",
    "\n",
    "# Commit the transaction\n",
    "psql_conn.commit()\n",
    "\n",
    "# Close the cursor and connection\n",
    "cursor.close()\n",
    "psql_conn.close()"
   ]
  },
  {
   "cell_type": "markdown",
   "metadata": {},
   "source": [
    "### 4. Locations"
   ]
  },
  {
   "cell_type": "code",
   "execution_count": 9,
   "metadata": {},
   "outputs": [
    {
     "data": {
      "text/plain": [
       "[{'LocationID': 'LO00000001',\n",
       "  'LocationDescription': '台大正門',\n",
       "  'IsInCampus': True},\n",
       " {'LocationID': 'LO00000002',\n",
       "  'LocationDescription': '椰林大道',\n",
       "  'IsInCampus': True},\n",
       " {'LocationID': 'LO00000003',\n",
       "  'LocationDescription': '台大校史館',\n",
       "  'IsInCampus': True},\n",
       " {'LocationID': 'LO00000004',\n",
       "  'LocationDescription': '總圖書館',\n",
       "  'IsInCampus': True},\n",
       " {'LocationID': 'LO00000005',\n",
       "  'LocationDescription': '電機一館',\n",
       "  'IsInCampus': True}]"
      ]
     },
     "execution_count": 9,
     "metadata": {},
     "output_type": "execute_result"
    }
   ],
   "source": [
    "campus_locations = [\n",
    "    \"台大正門\", \"椰林大道\", \"台大校史館\", \"總圖書館\", \"電機一館\", \"電機二館\", \"管理學院一館\", \"管理學院二館\", \n",
    "    \"教研館\", \"計算機及資訊網路中心\", \"思亮館\", \"新月台\", \"理學院\", \"普通教學館\", \"綜合體育館\", \"小福樓\", \"台大農場\", \n",
    "    \"學生活動中心\", \"化學系館\", \"舟山路前段\", \"舟山路後段\", \"學新館\", \"第二學生活動中心\", \"鹿鳴堂\", \"游泳池\", \n",
    "    \"博雅教學館\", \"國青宿舍\", \"醉月湖\", \"德田館\", \"女九舍\", \"駐警隊\"\n",
    "]\n",
    "\n",
    "nearby_locations = [\n",
    "    \"公館夜市\", \"溫州街\", \"羅斯福路四段\", \"台電大樓捷運站\", \"科技大樓捷運站\", \"和平東路\", \"基隆路\", \n",
    "    \"公館捷運站一號出口\", \"公館捷運站二號出口\", \"公館捷運站三號出口\", \"公館捷運站四號出口\", \"新生南路\", \n",
    "    \"師大夜市\", \"公館水岸公園\", \"水源市場\", \"公館捷運站\"\n",
    "]\n",
    "\n",
    "# 生成地點數據\n",
    "locations = []\n",
    "\n",
    "# 先添加所有校內地點\n",
    "for i, location in enumerate(campus_locations, start=1):\n",
    "    locations.append({\n",
    "        \"LocationID\": f\"LO{str(i).zfill(8)}\",\n",
    "        \"LocationDescription\": location,\n",
    "        \"IsInCampus\": True\n",
    "    })\n",
    "\n",
    "# 再添加所有校外地點\n",
    "for i, location in enumerate(nearby_locations, start=len(campus_locations) + 1):\n",
    "    locations.append({\n",
    "        \"LocationID\": f\"LO{str(i).zfill(8)}\",\n",
    "        \"LocationDescription\": location,\n",
    "        \"IsInCampus\": False\n",
    "    })\n",
    "\n",
    "# 輸出所有的地點示例\n",
    "locations[0:5]  # 可調整顯示的數量\n"
   ]
  },
  {
   "cell_type": "code",
   "execution_count": 10,
   "metadata": {},
   "outputs": [],
   "source": [
    "# Connect to PostgreSQL database\n",
    "psql_conn = psycopg2.connect(\"dbname = 'DB_FP' user = 'postgres' host = 'localhost' password = \" + db_password)\n",
    "cursor = psql_conn.cursor()\n",
    "\n",
    "# Insert data into the 'locations' table\n",
    "for location in locations:\n",
    "    # Create the SQL insert statement\n",
    "    insert_query = \"\"\"\n",
    "    INSERT INTO locations (LocationID, LocationDescription, IsInCampus) \n",
    "    VALUES (%s, %s, %s)\n",
    "    \"\"\"\n",
    "    # Execute the insert statement\n",
    "    cursor.execute(insert_query, (location['LocationID'], location['LocationDescription'], location['IsInCampus']))\n",
    "\n",
    "# Commit the transaction\n",
    "psql_conn.commit()\n",
    "\n",
    "# Close the cursor and connection\n",
    "cursor.close()\n",
    "psql_conn.close()"
   ]
  },
  {
   "cell_type": "markdown",
   "metadata": {},
   "source": [
    "### 5. Category"
   ]
  },
  {
   "cell_type": "code",
   "execution_count": 11,
   "metadata": {},
   "outputs": [
    {
     "data": {
      "text/plain": [
       "[{'CategoryID': 'CA00000001', 'CategoryName': '文具'},\n",
       " {'CategoryID': 'CA00000002', 'CategoryName': '衣物'},\n",
       " {'CategoryID': 'CA00000003', 'CategoryName': '配件'},\n",
       " {'CategoryID': 'CA00000004', 'CategoryName': '電子產品'},\n",
       " {'CategoryID': 'CA00000005', 'CategoryName': '交通工具'}]"
      ]
     },
     "execution_count": 11,
     "metadata": {},
     "output_type": "execute_result"
    }
   ],
   "source": [
    "# 預定義類別名稱\n",
    "category_names = [\n",
    "    \"文具\", \"衣物\", \"配件\", \"電子產品\", \"交通工具\", \"居家用品\", \"個人護理\", \"運動用品\", \"收藏品\", \"其他\"\n",
    "]\n",
    "\n",
    "num_categories = len(category_names)  # 根據預設類別數生成\n",
    "categories = [\n",
    "    {\n",
    "        \"CategoryID\": f\"CA{str(i).zfill(8)}\",\n",
    "        \"CategoryName\": category_names[i - 1]\n",
    "    }\n",
    "    for i in range(1, num_categories + 1)\n",
    "]\n",
    "\n",
    "categories[0:5]"
   ]
  },
  {
   "cell_type": "code",
   "execution_count": 12,
   "metadata": {},
   "outputs": [],
   "source": [
    "# Connect to PostgreSQL database\n",
    "psql_conn = psycopg2.connect(\"dbname = 'DB_FP' user = 'postgres' host = 'localhost' password = \" + db_password)\n",
    "cursor = psql_conn.cursor()\n",
    "\n",
    "# Insert data into the 'category' table\n",
    "for category in categories:\n",
    "    # Create the SQL insert statement\n",
    "    insert_query = \"\"\"\n",
    "    INSERT INTO category (CategoryID, CategoryName) \n",
    "    VALUES (%s, %s)\n",
    "    \"\"\"\n",
    "    # Execute the insert statement\n",
    "    cursor.execute(insert_query, (category['CategoryID'], category['CategoryName']))\n",
    "\n",
    "# Commit the transaction\n",
    "psql_conn.commit()\n",
    "\n",
    "# Close the cursor and connection\n",
    "cursor.close()\n",
    "psql_conn.close()"
   ]
  },
  {
   "cell_type": "markdown",
   "metadata": {},
   "source": [
    "### 6 & 7. lost_items found_items"
   ]
  },
  {
   "cell_type": "code",
   "execution_count": 13,
   "metadata": {},
   "outputs": [
    {
     "data": {
      "text/plain": [
       "([{'ItemID': 'IT00002373',\n",
       "   'LostTime': datetime.datetime(2023, 5, 8, 22, 3, 29)},\n",
       "  {'ItemID': 'IT00000545',\n",
       "   'LostTime': datetime.datetime(2023, 11, 17, 15, 54, 57)},\n",
       "  {'ItemID': 'IT00000351',\n",
       "   'LostTime': datetime.datetime(2023, 12, 15, 6, 24, 8)},\n",
       "  {'ItemID': 'IT00001007',\n",
       "   'LostTime': datetime.datetime(2024, 10, 19, 21, 53, 30)},\n",
       "  {'ItemID': 'IT00001168',\n",
       "   'LostTime': datetime.datetime(2023, 6, 26, 7, 37, 56)}],\n",
       " [{'ItemID': 'IT00000669',\n",
       "   'FoundTime': datetime.datetime(2023, 11, 20, 15, 45, 12)},\n",
       "  {'ItemID': 'IT00001905',\n",
       "   'FoundTime': datetime.datetime(2024, 10, 31, 22, 25, 8)},\n",
       "  {'ItemID': 'IT00001381',\n",
       "   'FoundTime': datetime.datetime(2024, 8, 25, 22, 23, 51)},\n",
       "  {'ItemID': 'IT00001869',\n",
       "   'FoundTime': datetime.datetime(2023, 2, 23, 2, 47, 16)},\n",
       "  {'ItemID': 'IT00001480',\n",
       "   'FoundTime': datetime.datetime(2024, 4, 11, 16, 22, 50)}])"
      ]
     },
     "execution_count": 13,
     "metadata": {},
     "output_type": "execute_result"
    }
   ],
   "source": [
    "num_items = len(items)\n",
    "\n",
    "# 將 items 的 ID 隨機打亂\n",
    "shuffled_items = random.sample(items, num_items)\n",
    "\n",
    "# 隨機分配 LostItems 和 FoundItems\n",
    "lost_items = []\n",
    "found_items = []\n",
    "\n",
    "# 隨機分割比例，50% 的機率成為 LostItem 或 FoundItem\n",
    "for item in shuffled_items:\n",
    "    if random.random() < 0.5:  # 50% 的機率作為 LostItem\n",
    "        lost_items.append(\n",
    "            {\n",
    "                \"ItemID\": item[\"ItemID\"],\n",
    "                \"LostTime\": random_timestamp(datetime(2023, 1, 1), datetime(2024, 12, 1)),\n",
    "            }\n",
    "        )\n",
    "    else:  # 否則作為 FoundItem\n",
    "        found_items.append(\n",
    "            {\n",
    "                \"ItemID\": item[\"ItemID\"],\n",
    "                \"FoundTime\": random_timestamp(datetime(2023, 1, 1), datetime(2024, 12, 1)),\n",
    "            }\n",
    "        )\n",
    "lost_items[0:5], found_items[0:5]\n"
   ]
  },
  {
   "cell_type": "code",
   "execution_count": 14,
   "metadata": {},
   "outputs": [],
   "source": [
    "# Connect to PostgreSQL database\n",
    "psql_conn = psycopg2.connect(\"dbname = 'DB_FP' user = 'postgres' host = 'localhost' password = \" + db_password)\n",
    "cursor = psql_conn.cursor()\n",
    "\n",
    "# Insert Lost Items\n",
    "for lost_item in lost_items:\n",
    "    # Create the SQL insert statement for LostItem\n",
    "    insert_query = \"\"\"\n",
    "    INSERT INTO lost_item (ItemID, LostTime) \n",
    "    VALUES (%s, %s)\n",
    "    \"\"\"\n",
    "    # Execute the insert statement for LostItem\n",
    "    cursor.execute(insert_query, (lost_item[\"ItemID\"], lost_item[\"LostTime\"]))\n",
    "\n",
    "# Insert Found Items\n",
    "for found_item in found_items:\n",
    "    # Create the SQL insert statement for FoundItem\n",
    "    insert_query = \"\"\"\n",
    "    INSERT INTO found_item (ItemID, FoundTime) \n",
    "    VALUES (%s, %s)\n",
    "    \"\"\"\n",
    "    # Execute the insert statement for FoundItem\n",
    "    cursor.execute(insert_query, (found_item[\"ItemID\"], found_item[\"FoundTime\"]))\n",
    "\n",
    "# Commit the transaction\n",
    "psql_conn.commit()\n",
    "\n",
    "# Close the cursor and connection\n",
    "cursor.close()\n",
    "psql_conn.close()"
   ]
  },
  {
   "cell_type": "markdown",
   "metadata": {},
   "source": [
    "### 8. Belongs"
   ]
  },
  {
   "cell_type": "code",
   "execution_count": 15,
   "metadata": {},
   "outputs": [
    {
     "data": {
      "text/plain": [
       "[{'ItemID': 'IT00000001', 'CategoryID': 'CA00000001'},\n",
       " {'ItemID': 'IT00000002', 'CategoryID': 'CA00000010'},\n",
       " {'ItemID': 'IT00000003', 'CategoryID': 'CA00000010'},\n",
       " {'ItemID': 'IT00000004', 'CategoryID': 'CA00000010'},\n",
       " {'ItemID': 'IT00000005', 'CategoryID': 'CA00000003'}]"
      ]
     },
     "execution_count": 15,
     "metadata": {},
     "output_type": "execute_result"
    }
   ],
   "source": [
    "# 類別與關鍵詞的對應關係\n",
    "category_keywords = {\n",
    "    \"文具\": [\"筆記本\", \"文件夾\", \"筆袋\", \"印章\", \"日曆\", \"書本\"],\n",
    "    \"衣物\": [\"衣服\", \"鞋子\", \"圍巾\", \"手套\", \"帽子\", \"毛毯\"],\n",
    "    \"配件\": [\"手錶\", \"耳機\", \"眼鏡\", \"項鍊\", \"戒指\", \"手鏈\"],\n",
    "    \"電子產品\": [\"手機殼\", \"相機\", \"電腦\", \"鍵盤\", \"滑鼠\", \"充電器\", \"行動電源\"],\n",
    "    \"交通工具\": [\"腳踏車\"],\n",
    "    \"居家用品\": [\"枕頭\", \"衣架\", \"掛鐘\", \"日記本\", \"毛巾\"],\n",
    "    \"個人護理\": [\"梳子\", \"口罩\", \"粉餅盒\", \"眼影盤\", \"電動牙刷\"],\n",
    "    \"運動用品\": [\"運動鞋\", \"背包\", \"雨傘\"],\n",
    "    \"收藏品\": [\"吊飾\", \"徽章\", \"玩偶\"],\n",
    "    \"其他\": []\n",
    "}\n",
    "\n",
    "# 將類別名稱轉換為對應的 CategoryID\n",
    "category_name_to_id = {category[\"CategoryName\"]: category[\"CategoryID\"] for category in categories}\n",
    "\n",
    "# 根據物品描述決定所屬類別\n",
    "belongs = []\n",
    "for item in items:\n",
    "    item_description = item[\"Description\"]\n",
    "    matched_category = \"其他\"  # 預設為 \"其他\"\n",
    "    for category_name, keywords in category_keywords.items():\n",
    "        if any(keyword in item_description for keyword in keywords):\n",
    "            matched_category = category_name\n",
    "            break\n",
    "    belongs.append({\n",
    "        \"ItemID\": item[\"ItemID\"],\n",
    "        \"CategoryID\": category_name_to_id[matched_category]\n",
    "    })\n",
    "\n",
    "belongs[0:5]\n"
   ]
  },
  {
   "cell_type": "code",
   "execution_count": 16,
   "metadata": {},
   "outputs": [],
   "source": [
    "# Connect to PostgreSQL database\n",
    "psql_conn = psycopg2.connect(\"dbname = 'DB_FP' user = 'postgres' host = 'localhost' password = \" + db_password)\n",
    "cursor = psql_conn.cursor()\n",
    "\n",
    "# Insert into 'belongs' table\n",
    "for belong in belongs:\n",
    "    # Create the SQL insert statement for the 'belongs' table\n",
    "    insert_query = \"\"\"\n",
    "    INSERT INTO belongs (ItemID, CategoryID) \n",
    "    VALUES (%s, %s)\n",
    "    \"\"\"\n",
    "    # Execute the insert statement\n",
    "    cursor.execute(insert_query, (belong[\"ItemID\"], belong[\"CategoryID\"]))\n",
    "\n",
    "# Commit the transaction\n",
    "psql_conn.commit()\n",
    "\n",
    "# Close the cursor and connection\n",
    "cursor.close()\n",
    "psql_conn.close()"
   ]
  },
  {
   "cell_type": "markdown",
   "metadata": {},
   "source": [
    "### 9. Posts"
   ]
  },
  {
   "cell_type": "code",
   "execution_count": 17,
   "metadata": {},
   "outputs": [
    {
     "data": {
      "text/plain": [
       "[{'UserID': 'US00004387',\n",
       "  'ItemID': 'IT00000001',\n",
       "  'PostTime': datetime.datetime(2023, 6, 25, 9, 24, 39)},\n",
       " {'UserID': 'US00001596',\n",
       "  'ItemID': 'IT00000002',\n",
       "  'PostTime': datetime.datetime(2024, 3, 11, 20, 6, 58)},\n",
       " {'UserID': 'US00004511',\n",
       "  'ItemID': 'IT00000003',\n",
       "  'PostTime': datetime.datetime(2023, 5, 16, 5, 43, 35)},\n",
       " {'UserID': 'US00004997',\n",
       "  'ItemID': 'IT00000004',\n",
       "  'PostTime': datetime.datetime(2023, 3, 13, 16, 15, 45)},\n",
       " {'UserID': 'US00000761',\n",
       "  'ItemID': 'IT00000005',\n",
       "  'PostTime': datetime.datetime(2024, 8, 29, 10, 58, 17)}]"
      ]
     },
     "execution_count": 17,
     "metadata": {},
     "output_type": "execute_result"
    }
   ],
   "source": [
    "# 生成 POST 數據\n",
    "posts = []\n",
    "\n",
    "# 從所有物品中隨機選擇一個物品，並為每個物品生成一個唯一的貼文\n",
    "used_items = set()  # 用來記錄已經使用過的 ItemID，保證每個 ItemID 唯一\n",
    "for item in items:\n",
    "    # 隨機選擇一個 UserID 發佈貼文\n",
    "    user = random.choice(users)\n",
    "    \n",
    "    # 確保 ItemID 唯一\n",
    "    while item[\"ItemID\"] in used_items:\n",
    "        item = random.choice(items)  # 隨機選擇新的物品，直到選到未使用過的\n",
    "    \n",
    "    # 記錄該 ItemID 已經被使用\n",
    "    used_items.add(item[\"ItemID\"])\n",
    "\n",
    "    # 隨機生成發佈時間\n",
    "    post_time = random_timestamp(datetime(2023, 1, 1), datetime(2024, 12, 1))\n",
    "    \n",
    "    # 添加貼文數據\n",
    "    posts.append(\n",
    "        {\n",
    "            \"UserID\": user[\"UserID\"],\n",
    "            \"ItemID\": item[\"ItemID\"],\n",
    "            \"PostTime\": post_time,\n",
    "        }\n",
    "    )\n",
    "\n",
    "# 顯示前五筆數據\n",
    "posts[0:5]"
   ]
  },
  {
   "cell_type": "code",
   "execution_count": 18,
   "metadata": {},
   "outputs": [],
   "source": [
    "# Connect to PostgreSQL database\n",
    "psql_conn = psycopg2.connect(\"dbname = 'DB_FP' user = 'postgres' host = 'localhost' password = \" + db_password)\n",
    "cursor = psql_conn.cursor()\n",
    "\n",
    "# Insert into 'posts' table\n",
    "for post in posts:\n",
    "    # Create the SQL insert statement for the 'posts' table\n",
    "    insert_query = \"\"\"\n",
    "    INSERT INTO posts (UserID, ItemID, PostTime) \n",
    "    VALUES (%s, %s, %s)\n",
    "    \"\"\"\n",
    "    # Execute the insert statement\n",
    "    cursor.execute(insert_query, (post[\"UserID\"], post[\"ItemID\"], post[\"PostTime\"]))\n",
    "\n",
    "# Commit the transaction\n",
    "psql_conn.commit()\n",
    "\n",
    "# Close the cursor and connection\n",
    "cursor.close()\n",
    "psql_conn.close()"
   ]
  },
  {
   "cell_type": "markdown",
   "metadata": {},
   "source": [
    "### 10 & 11. Stores & Locates"
   ]
  },
  {
   "cell_type": "code",
   "execution_count": 19,
   "metadata": {},
   "outputs": [
    {
     "data": {
      "text/plain": [
       "[{'ItemID': 'IT00000001',\n",
       "  'LocationID': 'LO00000031',\n",
       "  'StartTime': datetime.datetime(2023, 1, 22, 2, 6, 50),\n",
       "  'FinishTime': datetime.datetime(2023, 1, 25, 9, 51)},\n",
       " {'ItemID': 'IT00000002',\n",
       "  'LocationID': 'LO00000031',\n",
       "  'StartTime': datetime.datetime(2023, 1, 10, 2, 42, 8),\n",
       "  'FinishTime': datetime.datetime(2023, 1, 18, 7, 42, 38)},\n",
       " {'ItemID': 'IT00000003',\n",
       "  'LocationID': 'LO00000031',\n",
       "  'StartTime': datetime.datetime(2023, 7, 4, 22, 42, 26),\n",
       "  'FinishTime': datetime.datetime(2023, 7, 12, 23, 22, 9)},\n",
       " {'ItemID': 'IT00000004',\n",
       "  'LocationID': 'LO00000031',\n",
       "  'StartTime': datetime.datetime(2023, 1, 31, 13, 3, 27),\n",
       "  'FinishTime': datetime.datetime(2023, 2, 6, 3, 13, 46)},\n",
       " {'ItemID': 'IT00000005',\n",
       "  'LocationID': 'LO00000047',\n",
       "  'StartTime': datetime.datetime(2023, 5, 16, 14, 6, 13),\n",
       "  'FinishTime': None}]"
      ]
     },
     "execution_count": 19,
     "metadata": {},
     "output_type": "execute_result"
    }
   ],
   "source": [
    "stores = []\n",
    "locates = []\n",
    "for item in items:\n",
    "    location = random.choice(locations)  # 隨機選擇一個地點\n",
    "    start_time = random_timestamp(datetime(2023, 1, 1), post_time)\n",
    "    if random.random() < 0.8:  # 假設有80%的機會設置 finish_time\n",
    "        finish_time = random_timestamp(start_time, start_time + timedelta(days=10))\n",
    "    else:\n",
    "        finish_time = None \n",
    "\n",
    "    # 強制設定存放位置，校內放駐警隊，校外放捷運站\n",
    "    if location[\"IsInCampus\"]:\n",
    "        # 如果是在校內，強制存放在「駐警隊」\n",
    "        location_store = \"駐警隊\"\n",
    "    else:\n",
    "        # 如果是校外，強制存放在「公館捷運站」\n",
    "        location_store = \"公館捷運站\"\n",
    "\n",
    "    location_store_id = next(loc[\"LocationID\"] for loc in locations if loc[\"LocationDescription\"] == location_store)\n",
    "     \n",
    "    stores.append(\n",
    "        {\n",
    "            \"ItemID\": item[\"ItemID\"],\n",
    "            \"LocationID\": location_store_id,\n",
    "            \"StartTime\": start_time,\n",
    "            \"FinishTime\": finish_time,\n",
    "        }\n",
    "    )\n",
    "    locates.append(\n",
    "        {\n",
    "            \"ItemID\": item[\"ItemID\"],\n",
    "            \"LocationID\": location[\"LocationID\"],\n",
    "        }\n",
    "    )\n",
    "\n",
    "# 輸出部分示例\n",
    "stores[0:5]\n"
   ]
  },
  {
   "cell_type": "code",
   "execution_count": 20,
   "metadata": {},
   "outputs": [
    {
     "data": {
      "text/plain": [
       "[{'ItemID': 'IT00000001', 'LocationID': 'LO00000019'},\n",
       " {'ItemID': 'IT00000002', 'LocationID': 'LO00000006'},\n",
       " {'ItemID': 'IT00000003', 'LocationID': 'LO00000017'},\n",
       " {'ItemID': 'IT00000004', 'LocationID': 'LO00000026'},\n",
       " {'ItemID': 'IT00000005', 'LocationID': 'LO00000039'}]"
      ]
     },
     "execution_count": 20,
     "metadata": {},
     "output_type": "execute_result"
    }
   ],
   "source": [
    "locates[0:5]"
   ]
  },
  {
   "cell_type": "code",
   "execution_count": 21,
   "metadata": {},
   "outputs": [],
   "source": [
    "# Connect to PostgreSQL database\n",
    "psql_conn = psycopg2.connect(\"dbname = 'DB_FP' user = 'postgres' host = 'localhost' password = \" + db_password)\n",
    "cursor = psql_conn.cursor()\n",
    "\n",
    "# Insert into 'stores' table\n",
    "for store in stores:\n",
    "    insert_query = \"\"\"\n",
    "    INSERT INTO stores (ItemID, LocationID, StartTime, FinishTime) \n",
    "    VALUES (%s, %s, %s, %s)\n",
    "    \"\"\"\n",
    "    cursor.execute(insert_query, (store[\"ItemID\"], store[\"LocationID\"], store[\"StartTime\"], store[\"FinishTime\"]))\n",
    "\n",
    "# Insert into 'locates' table\n",
    "for locate in locates:\n",
    "    insert_query = \"\"\"\n",
    "    INSERT INTO locates (ItemID, LocationID) \n",
    "    VALUES (%s, %s)\n",
    "    \"\"\"\n",
    "    cursor.execute(insert_query, (locate[\"ItemID\"], locate[\"LocationID\"]))\n",
    "\n",
    "# Commit the transaction\n",
    "psql_conn.commit()\n",
    "\n",
    "# Close the cursor and connection\n",
    "cursor.close()\n",
    "psql_conn.close()"
   ]
  },
  {
   "cell_type": "markdown",
   "metadata": {},
   "source": [
    "### 12. Returns_or_Claims"
   ]
  },
  {
   "cell_type": "code",
   "execution_count": 22,
   "metadata": {},
   "outputs": [
    {
     "data": {
      "text/plain": [
       "[{'ItemID': 'IT00001421',\n",
       "  'UserID': 'US00004416',\n",
       "  'RCTime': datetime.datetime(2023, 1, 16, 16, 2, 24),\n",
       "  'Status': 'F'},\n",
       " {'ItemID': 'IT00002413',\n",
       "  'UserID': 'US00004617',\n",
       "  'RCTime': datetime.datetime(2023, 1, 16, 22, 45, 23),\n",
       "  'Status': 'C'},\n",
       " {'ItemID': 'IT00000429',\n",
       "  'UserID': 'US00000945',\n",
       "  'RCTime': datetime.datetime(2023, 1, 21, 7, 35, 22),\n",
       "  'Status': 'F'},\n",
       " {'ItemID': 'IT00002144',\n",
       "  'UserID': 'US00001303',\n",
       "  'RCTime': datetime.datetime(2023, 1, 22, 15, 28, 55),\n",
       "  'Status': 'C'},\n",
       " {'ItemID': 'IT00002948',\n",
       "  'UserID': 'US00002494',\n",
       "  'RCTime': datetime.datetime(2023, 1, 24, 23, 9, 39),\n",
       "  'Status': 'F'}]"
      ]
     },
     "execution_count": 22,
     "metadata": {},
     "output_type": "execute_result"
    }
   ],
   "source": [
    "# 記錄每個物品的狀態變化\n",
    "item_status = {}\n",
    "\n",
    "# 儲存物品的發佈時間\n",
    "post_times = {item[\"ItemID\"]: random.choice(posts)[\"PostTime\"] for item in items}\n",
    "\n",
    "returns_or_claims = []\n",
    "\n",
    "while len(returns_or_claims) < 10000:\n",
    "    item = random.choice(items)\n",
    "    user = random.choice(users)\n",
    "    post_time = post_times[item[\"ItemID\"]]  # 獲取該物品的 PostTime\n",
    "    \n",
    "    # 隨機生成一個 RCTime，必須在 PostTime 之後\n",
    "    rctime = random_timestamp(post_time, datetime(2024, 12, 1))\n",
    "    \n",
    "    # 如果這個物品還沒有開始處理過狀態，初始化為進行中\n",
    "    if item[\"ItemID\"] not in item_status:\n",
    "        item_status[item[\"ItemID\"]] = [\"P\"]  # 初始化為進行中\n",
    "    \n",
    "    # 如果物品狀態已經是完成 (S)，跳過\n",
    "    if item_status[item[\"ItemID\"]][-1] == \"S\":\n",
    "        continue  # 如果物品已經完成，不再添加新的狀態\n",
    "    \n",
    "    # 根據最後一次狀態決定下一個狀態\n",
    "    last_status = item_status[item[\"ItemID\"]][-1]\n",
    "    \n",
    "    # 如果狀態是進行中，隨機決定下一步\n",
    "    if last_status == \"P\":\n",
    "        # 約50%完成，30%取消，20%失敗\n",
    "        if random.random() < 0.5:  # 完成\n",
    "            status = \"S\"\n",
    "        elif random.random() < 0.3:  # 取消\n",
    "            status = \"C\"\n",
    "        else:  # 失敗\n",
    "            status = \"F\"\n",
    "    # 如果狀態是完成或取消/失敗，則不會再改為進行中，並且完成會是最後狀態\n",
    "    else:\n",
    "        status = last_status  # 取消或失敗，保持不變\n",
    "    \n",
    "    # 添加狀態到物品的狀態序列中\n",
    "    item_status[item[\"ItemID\"]].append(status)\n",
    "\n",
    "    returns_or_claims.append(\n",
    "        {\n",
    "            \"ItemID\": item[\"ItemID\"],\n",
    "            \"UserID\": user[\"UserID\"],\n",
    "            \"RCTime\": rctime,\n",
    "            \"Status\": status,\n",
    "        }\n",
    "    )\n",
    "\n",
    "# 按照 RCTime 排序\n",
    "returns_or_claims.sort(key=lambda x: x[\"RCTime\"])\n",
    "\n",
    "# 顯示前五筆數據\n",
    "returns_or_claims[0:5]\n"
   ]
  },
  {
   "cell_type": "code",
   "execution_count": 23,
   "metadata": {},
   "outputs": [],
   "source": [
    "# Connect to PostgreSQL database\n",
    "psql_conn = psycopg2.connect(\"dbname = 'DB_FP' user = 'postgres' host = 'localhost' password = \" + db_password)\n",
    "cursor = psql_conn.cursor()\n",
    "\n",
    "# Insert into 'returns_or_claims' table\n",
    "for record in returns_or_claims:\n",
    "    insert_query = \"\"\"\n",
    "    INSERT INTO returns_or_claims (ItemID, UserID, RCTime, Status) \n",
    "    VALUES (%s, %s, %s, %s)\n",
    "    \"\"\"\n",
    "    cursor.execute(insert_query, (record[\"ItemID\"], record[\"UserID\"], record[\"RCTime\"], record[\"Status\"]))\n",
    "\n",
    "# Commit the transaction\n",
    "psql_conn.commit()\n",
    "\n",
    "# Close the cursor and connection\n",
    "cursor.close()\n",
    "psql_conn.close()"
   ]
  },
  {
   "cell_type": "markdown",
   "metadata": {},
   "source": [
    "### 13. Notifies"
   ]
  },
  {
   "cell_type": "code",
   "execution_count": 24,
   "metadata": {},
   "outputs": [
    {
     "data": {
      "text/plain": [
       "[{'ItemID': 'IT00002690',\n",
       "  'UserID': 'US00001557',\n",
       "  'NotifyTime': datetime.datetime(2024, 11, 4, 10, 6, 33)},\n",
       " {'ItemID': 'IT00001593',\n",
       "  'UserID': 'US00000227',\n",
       "  'NotifyTime': datetime.datetime(2024, 11, 4, 14, 49, 57)},\n",
       " {'ItemID': 'IT00001609',\n",
       "  'UserID': 'US00002775',\n",
       "  'NotifyTime': datetime.datetime(2024, 11, 4, 21, 53, 18)},\n",
       " {'ItemID': 'IT00001260',\n",
       "  'UserID': 'US00002287',\n",
       "  'NotifyTime': datetime.datetime(2024, 11, 5, 2, 30, 5)},\n",
       " {'ItemID': 'IT00000593',\n",
       "  'UserID': 'US00002164',\n",
       "  'NotifyTime': datetime.datetime(2024, 11, 5, 7, 23, 8)}]"
      ]
     },
     "execution_count": 24,
     "metadata": {},
     "output_type": "execute_result"
    }
   ],
   "source": [
    "# 記錄每個物品和用戶的通知數據\n",
    "notifies = []\n",
    "\n",
    "\n",
    "# 生成通知數據\n",
    "for _ in range(num_notifies):\n",
    "    item = random.choice(items)  # 隨機選擇物品\n",
    "    user = random.choice(users)  # 隨機選擇用戶\n",
    "    notify_time = random_timestamp(post_time, datetime(2024, 12, 1)) # 隨機生成通知時間\n",
    "\n",
    "    # 添加通知數據\n",
    "    notifies.append(\n",
    "        {\n",
    "            \"ItemID\": item[\"ItemID\"],\n",
    "            \"UserID\": user[\"UserID\"],\n",
    "            \"NotifyTime\": notify_time,\n",
    "        }\n",
    "    )\n",
    "\n",
    "# 按照 NotifyTime 排序\n",
    "notifies.sort(key=lambda x: x[\"NotifyTime\"])\n",
    "\n",
    "# 顯示前五筆通知數據\n",
    "notifies[0:5]"
   ]
  },
  {
   "cell_type": "code",
   "execution_count": 25,
   "metadata": {},
   "outputs": [],
   "source": [
    "# Connect to PostgreSQL database\n",
    "psql_conn = psycopg2.connect(\"dbname = 'DB_FP' user = 'postgres' host = 'localhost' password = \" + db_password)\n",
    "cursor = psql_conn.cursor()\n",
    "\n",
    "# Insert into 'notifies' table\n",
    "for record in notifies:\n",
    "    insert_query = \"\"\"\n",
    "    INSERT INTO notifies (ItemID, UserID, NotifyTime) \n",
    "    VALUES (%s, %s, %s)\n",
    "    \"\"\"\n",
    "    cursor.execute(insert_query, (record[\"ItemID\"], record[\"UserID\"], record[\"NotifyTime\"]))\n",
    "\n",
    "# Commit the transaction\n",
    "psql_conn.commit()\n",
    "\n",
    "# Close the cursor and connection\n",
    "cursor.close()\n",
    "psql_conn.close()"
   ]
  },
  {
   "cell_type": "markdown",
   "metadata": {},
   "source": [
    "### 14. Rewards"
   ]
  },
  {
   "cell_type": "code",
   "execution_count": 26,
   "metadata": {},
   "outputs": [
    {
     "data": {
      "text/plain": [
       "[{'ItemID': 'IT00002328', 'RewardName': '星巴克', 'Amount': 2},\n",
       " {'ItemID': 'IT00000882', 'RewardName': '手搖杯', 'Amount': 1},\n",
       " {'ItemID': 'IT00002214', 'RewardName': '電影票', 'Amount': 1},\n",
       " {'ItemID': 'IT00001011', 'RewardName': '星巴克', 'Amount': 3},\n",
       " {'ItemID': 'IT00000322', 'RewardName': '超商禮券', 'Amount': 3}]"
      ]
     },
     "execution_count": 26,
     "metadata": {},
     "output_type": "execute_result"
    }
   ],
   "source": [
    "# 定義可能的懸賞名稱\n",
    "reward_names = [\n",
    "    \"星巴克\", \"100元現金\", \"手搖杯\", \"電子禮品卡\", \"超商禮券\", \"電影票\"\n",
    "]\n",
    "\n",
    "# 隨機選擇 100 個物品\n",
    "reward_items = random.sample(items, 100)\n",
    "\n",
    "# 生成獎勳數據\n",
    "rewards = []\n",
    "\n",
    "for item in reward_items:\n",
    "    reward_name = random.choice(reward_names)  # 隨機選擇懸賞名稱\n",
    "    amount = random.randint(1, 3)  # 隨機選擇懸賞數量，1-3杯/張\n",
    "    rewards.append(\n",
    "        {\n",
    "            \"ItemID\": item[\"ItemID\"],\n",
    "            \"RewardName\": reward_name,\n",
    "            \"Amount\": amount,\n",
    "        }\n",
    "    )\n",
    "\n",
    "# 顯示前五筆獎勳數據\n",
    "rewards[0:5]\n"
   ]
  },
  {
   "cell_type": "code",
   "execution_count": 27,
   "metadata": {},
   "outputs": [],
   "source": [
    "# Connect to PostgreSQL database\n",
    "psql_conn = psycopg2.connect(\"dbname = 'DB_FP' user = 'postgres' host = 'localhost' password = \" + db_password)\n",
    "cursor = psql_conn.cursor()\n",
    "\n",
    "# Insert into 'rewards' table\n",
    "for record in rewards:\n",
    "    insert_query = \"\"\"\n",
    "    INSERT INTO reward (ItemID, RewardName, Amount) \n",
    "    VALUES (%s, %s, %s)\n",
    "    \"\"\"\n",
    "    cursor.execute(insert_query, (record[\"ItemID\"], record[\"RewardName\"], record[\"Amount\"]))\n",
    "\n",
    "# Commit the transaction\n",
    "psql_conn.commit()\n",
    "\n",
    "# Close the cursor and connection\n",
    "cursor.close()\n",
    "psql_conn.close()"
   ]
  },
  {
   "cell_type": "markdown",
   "metadata": {},
   "source": [
    "### 15. Members"
   ]
  },
  {
   "cell_type": "code",
   "execution_count": 28,
   "metadata": {},
   "outputs": [
    {
     "data": {
      "text/plain": [
       "[{'MemberID': 'US00004569',\n",
       "  'AccountName': 'zuql2nwe',\n",
       "  'Password': 'm19ZoF12mhBt'},\n",
       " {'MemberID': 'US00003495',\n",
       "  'AccountName': '7cnx0lu4',\n",
       "  'Password': 'SGSMlWP0ROzU'},\n",
       " {'MemberID': 'US00004346',\n",
       "  'AccountName': 'j45emcg3',\n",
       "  'Password': 'NLymAGmQo7Xv'},\n",
       " {'MemberID': 'US00003923',\n",
       "  'AccountName': 'njbjaut5',\n",
       "  'Password': 'YQT5pjlUZnPb'},\n",
       " {'MemberID': 'US00000906',\n",
       "  'AccountName': 'rv3iftvu',\n",
       "  'Password': 'SpDACpQCT23z'}]"
      ]
     },
     "execution_count": 28,
     "metadata": {},
     "output_type": "execute_result"
    }
   ],
   "source": [
    "# 假設 users 表中已經有足夠的用戶數據\n",
    "# 從 users 表中選擇 1000 個不同的 UserID\n",
    "sample_users = random.sample(users, 1000)\n",
    "\n",
    "# 生成 member 的數據\n",
    "members = []\n",
    "for user in sample_users:\n",
    "    # 隨機生成帳號名稱\n",
    "    account_name = ''.join(random.choices(string.ascii_lowercase + string.digits, k=8))  # 隨機 8 個字母數字組合\n",
    "    # 隨機生成密碼\n",
    "    password = ''.join(random.choices(string.ascii_letters + string.digits, k=12))  # 隨機 12 個字母數字組合\n",
    "    \n",
    "    members.append(\n",
    "        {\n",
    "            \"MemberID\": user[\"UserID\"],\n",
    "            \"AccountName\": account_name,\n",
    "            \"Password\": password,\n",
    "        }\n",
    "    )\n",
    "\n",
    "# 顯示前五筆生成的會員數據\n",
    "members[0:5]\n"
   ]
  },
  {
   "cell_type": "code",
   "execution_count": 29,
   "metadata": {},
   "outputs": [],
   "source": [
    "# Connect to PostgreSQL database\n",
    "psql_conn = psycopg2.connect(\"dbname = 'DB_FP' user = 'postgres' host = 'localhost' password = \" + db_password)\n",
    "cursor = psql_conn.cursor()\n",
    "\n",
    "# Insert into 'members' table\n",
    "for record in members:\n",
    "    insert_query = \"\"\"\n",
    "    INSERT INTO members (MemberID, AccountName, Password) \n",
    "    VALUES (%s, %s, %s)\n",
    "    \"\"\"\n",
    "    cursor.execute(insert_query, (record[\"MemberID\"], record[\"AccountName\"], record[\"Password\"]))\n",
    "\n",
    "# Commit the transaction\n",
    "psql_conn.commit()\n",
    "\n",
    "# Close the cursor and connection\n",
    "cursor.close()\n",
    "psql_conn.close()"
   ]
  },
  {
   "cell_type": "markdown",
   "metadata": {},
   "source": [
    "### 16. Comments"
   ]
  },
  {
   "cell_type": "code",
   "execution_count": 30,
   "metadata": {},
   "outputs": [
    {
     "data": {
      "text/plain": [
       "[{'MemberID': 'US00004191',\n",
       "  'ItemID': 'IT00000416',\n",
       "  'CmTime': datetime.datetime(2024, 11, 20, 9, 13, 19),\n",
       "  'CmContent': '感謝找到我的筆記本，已經取回了！'},\n",
       " {'MemberID': 'US00003445',\n",
       "  'ItemID': 'IT00001879',\n",
       "  'CmTime': datetime.datetime(2024, 11, 13, 4, 6, 49),\n",
       "  'CmContent': '感謝找到我的筆記本，已經取回了！'},\n",
       " {'MemberID': 'US00002286',\n",
       "  'ItemID': 'IT00002448',\n",
       "  'CmTime': datetime.datetime(2024, 11, 27, 3, 31, 36),\n",
       "  'CmContent': '這是我弄丟的，請問是在哪個地點找到的呢？'},\n",
       " {'MemberID': 'US00004035',\n",
       "  'ItemID': 'IT00000771',\n",
       "  'CmTime': datetime.datetime(2024, 11, 11, 6, 57, 2),\n",
       "  'CmContent': '我的丟失了，請問這是我的嗎？'},\n",
       " {'MemberID': 'US00002093',\n",
       "  'ItemID': 'IT00000369',\n",
       "  'CmTime': datetime.datetime(2024, 11, 13, 0, 59, 36),\n",
       "  'CmContent': '謝謝你，我終於找回來了！'}]"
      ]
     },
     "execution_count": 30,
     "metadata": {},
     "output_type": "execute_result"
    }
   ],
   "source": [
    "comments_templates = [\n",
    "    \"謝謝你撿到！真的太感謝了！\",\n",
    "    \"感謝好心人找到了我的東西！\",\n",
    "    \"真的很感謝，這個物品對我很重要！\",\n",
    "    \"謝謝你，我終於找回來了！\",\n",
    "    \"太感謝了！我終於找到了，謝謝你！\",\n",
    "    \"我記得放在椅子上，請問可以再提供一些細節嗎？\",\n",
    "    \"請問這是我的東西嗎？我記得掉在桌子上。\",\n",
    "    \"我的丟失了，請問這是我的嗎？\",\n",
    "    \"我弄丟了它，請問可以提供更詳細的描述嗎？\",\n",
    "    \"我丟了它請問在哪裡找回來？\",\n",
    "    \"這是我弄丟的，請問是在哪個地點找到的呢？\",\n",
    "    \"謝謝你撿到我的物品！我會去指定地點領取。\",\n",
    "    \"謝謝你的幫忙，已經去領回物品了，感恩！\",\n",
    "    \"感謝找到我的筆記本，已經取回了！\",\n",
    "    \"謝謝你撿到我的耳機，我已經領回來了。\",\n",
    "    \"非常感謝，你讓我找回了我的東西，我會盡快來領取！\"\n",
    "]\n",
    "\n",
    "\n",
    "# 隨機生成留言數據\n",
    "comments = []\n",
    "\n",
    "for _ in range(num_comments):\n",
    "    item = random.choice(items)  # 隨機選擇物品\n",
    "    member = random.choice(members)  # 隨機選擇用戶\n",
    "    cm_time = random_timestamp(post_time, datetime(2024, 12, 1))\n",
    "    cm_content = random.choice(comments_templates)  # 隨機選擇留言內容\n",
    "    \n",
    "    comments.append({\n",
    "        \"MemberID\": member[\"MemberID\"],\n",
    "        \"ItemID\": item[\"ItemID\"],\n",
    "        \"CmTime\": cm_time,\n",
    "        \"CmContent\": cm_content\n",
    "    })\n",
    "\n",
    "# 輸出部分示例\n",
    "comments[0:5]  # 顯示前5條留言"
   ]
  },
  {
   "cell_type": "code",
   "execution_count": 31,
   "metadata": {},
   "outputs": [],
   "source": [
    "# Connect to PostgreSQL database\n",
    "psql_conn = psycopg2.connect(\"dbname = 'DB_FP' user = 'postgres' host = 'localhost' password = \" + db_password)\n",
    "cursor = psql_conn.cursor()\n",
    "\n",
    "# Insert into 'comments' table\n",
    "for record in comments:\n",
    "    insert_query = \"\"\"\n",
    "    INSERT INTO comments (MemberID, ItemID, CmTime, CmContent) \n",
    "    VALUES (%s, %s, %s, %s)\n",
    "    \"\"\"\n",
    "    cursor.execute(insert_query, (record[\"MemberID\"], record[\"ItemID\"], record[\"CmTime\"], record[\"CmContent\"]))\n",
    "\n",
    "# Commit the transaction\n",
    "psql_conn.commit()\n",
    "\n",
    "# Close the cursor and connection\n",
    "cursor.close()\n",
    "psql_conn.close()"
   ]
  },
  {
   "cell_type": "markdown",
   "metadata": {},
   "source": [
    "### 17. Messages"
   ]
  },
  {
   "cell_type": "code",
   "execution_count": 32,
   "metadata": {},
   "outputs": [
    {
     "data": {
      "text/plain": [
       "[{'SenderID': 'US00003440',\n",
       "  'ReceiverID': 'US00003413',\n",
       "  'MgTime': datetime.datetime(2024, 11, 23, 15, 52, 3),\n",
       "  'MgContent': '真的很感謝，這個物品對我很重要！'},\n",
       " {'SenderID': 'US00002293',\n",
       "  'ReceiverID': 'US00003159',\n",
       "  'MgTime': datetime.datetime(2024, 11, 24, 10, 17, 17),\n",
       "  'MgContent': '我弄丟了它，請問可以提供更詳細的描述嗎？'},\n",
       " {'SenderID': 'US00003390',\n",
       "  'ReceiverID': 'US00002580',\n",
       "  'MgTime': datetime.datetime(2024, 11, 23, 9, 52, 26),\n",
       "  'MgContent': '請問這是我的東西嗎？我記得掉在桌子上。'},\n",
       " {'SenderID': 'US00001879',\n",
       "  'ReceiverID': 'US00004720',\n",
       "  'MgTime': datetime.datetime(2024, 11, 30, 19, 0, 40),\n",
       "  'MgContent': '我弄丟了它，請問可以提供更詳細的描述嗎？'},\n",
       " {'SenderID': 'US00001540',\n",
       "  'ReceiverID': 'US00001415',\n",
       "  'MgTime': datetime.datetime(2024, 11, 24, 3, 11, 8),\n",
       "  'MgContent': '謝謝你撿到！真的太感謝了！'}]"
      ]
     },
     "execution_count": 32,
     "metadata": {},
     "output_type": "execute_result"
    }
   ],
   "source": [
    "# 隨機生成私訊數據\n",
    "messages = []\n",
    "\n",
    "for _ in range(num_messages):\n",
    "    sender = random.choice(members)  # 隨機選擇發送者\n",
    "    receiver = random.choice(members)  # 隨機選擇接收者\n",
    "    mg_time =  random_timestamp(post_time, datetime(2024, 12, 1))\n",
    "    mg_content = random.choice(comments_templates)  # 隨機選擇私訊內容\n",
    "    \n",
    "    messages.append({\n",
    "        \"SenderID\": sender[\"MemberID\"],\n",
    "        \"ReceiverID\": receiver[\"MemberID\"],\n",
    "        \"MgTime\": mg_time,\n",
    "        \"MgContent\": mg_content\n",
    "    })\n",
    "\n",
    "# 輸出部分示例\n",
    "messages[0:5]  # 顯示前5條私訊\n"
   ]
  },
  {
   "cell_type": "code",
   "execution_count": 33,
   "metadata": {},
   "outputs": [],
   "source": [
    "psql_conn = psycopg2.connect(\"dbname='DB_FP' user='postgres' host='localhost' password=\" + db_password)\n",
    "cursor = psql_conn.cursor()\n",
    "\n",
    "# 插入數據到 'message' 表\n",
    "for record in messages:\n",
    "    insert_query = \"\"\"\n",
    "    INSERT INTO message (SenderID, ReceiverID, MgTime, MgContent) \n",
    "    VALUES (%s, %s, %s, %s)\n",
    "    \"\"\"\n",
    "    cursor.execute(insert_query, (record[\"SenderID\"], record[\"ReceiverID\"], record[\"MgTime\"], record[\"MgContent\"]))\n",
    "\n",
    "# 提交交易\n",
    "psql_conn.commit()\n",
    "\n",
    "# 關閉游標和連接\n",
    "cursor.close()\n",
    "psql_conn.close()"
   ]
  },
  {
   "cell_type": "markdown",
   "metadata": {},
   "source": [
    "### 18. Feedbacks"
   ]
  },
  {
   "cell_type": "code",
   "execution_count": 34,
   "metadata": {},
   "outputs": [
    {
     "data": {
      "text/plain": [
       "[{'UserID': 'US00003527',\n",
       "  'FBTime': datetime.datetime(2023, 12, 13, 1, 42, 18),\n",
       "  'FBContent': '希望能增加語音輸入功能，這樣可以更便捷地描述丟失物品，尤其在手忙腳亂的時候很有幫助。'},\n",
       " {'UserID': 'US00000370',\n",
       "  'FBTime': datetime.datetime(2023, 8, 18, 13, 52, 30),\n",
       "  'FBContent': '非常感謝這個系統，讓我找回了丟失的物品！希望大家能夠更積極參與，讓失物招領系統更加完善！'},\n",
       " {'UserID': 'US00001646',\n",
       "  'FBTime': datetime.datetime(2023, 4, 10, 19, 39, 34),\n",
       "  'FBContent': '希望能增加語音輸入功能，這樣可以更便捷地描述丟失物品，尤其在手忙腳亂的時候很有幫助。'},\n",
       " {'UserID': 'US00000140',\n",
       "  'FBTime': datetime.datetime(2023, 8, 19, 6, 13, 55),\n",
       "  'FBContent': '希望能夠增加一個查詢過去的失物記錄的功能，這樣如果物品再次丟失，我可以查看是否有相似物品被找到過。'},\n",
       " {'UserID': 'US00003907',\n",
       "  'FBTime': datetime.datetime(2024, 3, 6, 19, 8, 6),\n",
       "  'FBContent': '希望能在物品描述中添加照片的上傳功能，這樣能幫助我更快地找到丟失的物品。'}]"
      ]
     },
     "execution_count": 34,
     "metadata": {},
     "output_type": "execute_result"
    }
   ],
   "source": [
    "# 設計回饋的範例內容\n",
    "feedback_templates = [\n",
    "    \"非常感謝這個系統，讓我找回了丟失的物品！希望大家能夠更積極參與，讓失物招領系統更加完善！\",\n",
    "    \"這個系統太棒了！我丟失的耳機找回來了，非常感謝！\",\n",
    "    \"希望能夠增加一個自動通知功能，當有相關物品被找到時，系統能及時通知我。\",\n",
    "    \"希望能增加地點篩選功能，讓我能夠更精確地查找丟失物品的地點，這樣會更方便。\",\n",
    "    \"界面設計得很好，操作簡單明瞭，期待未來能增添更多功能，比如物品自動識別，這樣會更加高效。\",\n",
    "    \"希望能在物品描述中添加照片的上傳功能，這樣能幫助我更快地找到丟失的物品。\",\n",
    "    \"最近在提交失物信息時，系統有時會顯示錯誤，無法成功提交，請協助處理一下。\",\n",
    "    \"有時候更新物品狀態的反應速度較慢，希望能加快系統反應時間。\",\n",
    "    \"希望能夠增加一個查詢過去的失物記錄的功能，這樣如果物品再次丟失，我可以查看是否有相似物品被找到過。\",\n",
    "    \"希望能增加語音輸入功能，這樣可以更便捷地描述丟失物品，尤其在手忙腳亂的時候很有幫助。\",\n",
    "    \"真的非常感謝這個平台，我找回了丟失的背包，這對我來說很重要。已經推薦給我的朋友們了！\",\n",
    "    \"這個系統真的是太方便了，謝謝你們幫助我找回了失物。我一定會繼續使用並推薦給更多人！\",\n",
    "]\n",
    "\n",
    "\n",
    "# 隨機生成回饋數據\n",
    "feedbacks = []\n",
    "\n",
    "for _ in range(num_feedbacks):\n",
    "    user = random.choice(users)  # 隨機選擇用戶ID\n",
    "    fb_time = random_timestamp(datetime(2023, 1, 1), datetime(2024, 12, 1)) \n",
    "    fb_content = random.choice(feedback_templates)  # 隨機選擇回饋內容\n",
    "    \n",
    "    feedbacks.append({\n",
    "        \"UserID\": user[\"UserID\"],\n",
    "        \"FBTime\": fb_time,\n",
    "        \"FBContent\": fb_content\n",
    "    })\n",
    "\n",
    "# 輸出部分示例\n",
    "feedbacks[0:5]  # 顯示前5條回饋\n"
   ]
  },
  {
   "cell_type": "code",
   "execution_count": 35,
   "metadata": {},
   "outputs": [],
   "source": [
    "psql_conn = psycopg2.connect(\"dbname='DB_FP' user='postgres' host='localhost' password=\" + db_password)\n",
    "cursor = psql_conn.cursor()\n",
    "\n",
    "# 插入數據到 'feedback' 表\n",
    "for record in feedbacks:\n",
    "    insert_query = \"\"\"\n",
    "    INSERT INTO feedback (UserID, FBTime, FBContent) \n",
    "    VALUES (%s, %s, %s)\n",
    "    \"\"\"\n",
    "    cursor.execute(insert_query, (record[\"UserID\"], record[\"FBTime\"], record[\"FBContent\"]))\n",
    "\n",
    "# 提交交易\n",
    "psql_conn.commit()\n",
    "\n",
    "# 關閉游標和連接\n",
    "cursor.close()\n",
    "psql_conn.close()"
   ]
  }
 ],
 "metadata": {
  "kernelspec": {
   "display_name": "Python 3",
   "language": "python",
   "name": "python3"
  },
  "language_info": {
   "codemirror_mode": {
    "name": "ipython",
    "version": 3
   },
   "file_extension": ".py",
   "mimetype": "text/x-python",
   "name": "python",
   "nbconvert_exporter": "python",
   "pygments_lexer": "ipython3",
   "version": "3.12.3"
  }
 },
 "nbformat": 4,
 "nbformat_minor": 2
}
