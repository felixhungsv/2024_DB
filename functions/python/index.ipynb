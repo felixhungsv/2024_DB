{
 "cells": [
  {
   "cell_type": "code",
   "execution_count": 1,
   "metadata": {},
   "outputs": [],
   "source": [
    "import pandas as pd\n",
    "import duckdb\n",
    "import psycopg2"
   ]
  },
  {
   "cell_type": "code",
   "execution_count": null,
   "metadata": {},
   "outputs": [],
   "source": [
    "with open('db_password.txt', 'r') as file:\n",
    "    db_port = file.readline().strip()\n",
    "    db_password = file.readline().strip()\n",
    "    db_name = file.readline().strip()\n",
    "\n",
    "psql_conn = psycopg2.connect(f\"port = '{db_port}' dbname = '{db_name}' user = 'postgres' host = 'localhost' password = '{db_password}'\")\n",
    "\n",
    "table_names = ['item', 'lost_item', 'found_item', 'users', 'locations', 'locates', 'stores', 'returns_or_claims', 'category', 'belongs', 'posts', 'members', 'comments', 'message', 'feedback', 'notifies', 'reward'] \n",
    "con = duckdb.connect()\n",
    "\n",
    "for table_name in table_names:\n",
    "    query_str = \"SELECT * FROM \" + table_name\n",
    "    df = pd.read_sql_query(query_str, psql_conn)\n",
    "    con.register(table_name, df)\n",
    "\n",
    "psql_conn.close()"
   ]
  },
  {
   "cell_type": "code",
   "execution_count": null,
   "metadata": {},
   "outputs": [],
   "source": [
    "# function that sees SQL command AS input and output table from database\n",
    "def query(query):\n",
    "    result = con.execute(query).fetchall()\n",
    "    column_names = [desc[0] for desc in con.description]\n",
    "    return column_names, result"
   ]
  },
  {
   "cell_type": "code",
   "execution_count": null,
   "metadata": {},
   "outputs": [],
   "source": [
    "test_id = 'UB05836965'\n",
    "columns, data = query(f'''\n",
    "    explain analyze\n",
    "    SELECT \n",
    "        CASE \n",
    "            WHEN m.senderid = {test_id} THEN u_r.username\n",
    "            ELSE u_s.username\n",
    "        END AS the_username,\n",
    "        MAX(m.mgtime) AS last_message_time\n",
    "    FROM MESSAGE AS m\n",
    "    JOIN USERS AS u_s ON m.senderid = u_s.userid\n",
    "    JOIN USERS AS u_r ON m.receiverid = u_r.userid\n",
    "    WHERE m.senderid = {test_id} OR m.receiverid = {test_id}\n",
    "    GROUP BY the_username\n",
    "    ORDER BY last_message_time DESC;\n",
    "          ''')\n",
    "old_message = pd.DataFrame(data, columns=columns)\n",
    "old_message\n",
    "\n",
    "# cost=42742.06, actual_time=340.212"
   ]
  },
  {
   "cell_type": "code",
   "execution_count": null,
   "metadata": {},
   "outputs": [],
   "source": [
    "'''\n",
    "CREATE INDEX idx_message_sender\n",
    "ON MESSAGE (senderid);\n",
    "CREATE INDEX idx_message_receiver\n",
    "ON MESSAGE (receiverid);\n",
    "'''"
   ]
  },
  {
   "cell_type": "code",
   "execution_count": null,
   "metadata": {},
   "outputs": [],
   "source": [
    "test_id = 'UB05836965'\n",
    "columns, data = query(f'''\n",
    "    explain analyze\n",
    "    SELECT \n",
    "        CASE \n",
    "            WHEN m.senderid = {test_id} THEN u_r.username\n",
    "            ELSE u_s.username\n",
    "        END AS the_username,\n",
    "        MAX(m.mgtime) AS last_message_time\n",
    "    FROM MESSAGE AS m\n",
    "    JOIN USERS AS u_s ON m.senderid = u_s.userid\n",
    "    JOIN USERS AS u_r ON m.receiverid = u_r.userid\n",
    "    WHERE m.senderid = {test_id} OR m.receiverid = {test_id}\n",
    "    GROUP BY the_username\n",
    "    ORDER BY last_message_time DESC;\n",
    "          ''')\n",
    "new_message = pd.DataFrame(data, columns=columns)\n",
    "new_message\n",
    "\n",
    "# cost=5665.70, actual_time=7.487"
   ]
  },
  {
   "cell_type": "code",
   "execution_count": null,
   "metadata": {},
   "outputs": [],
   "source": [
    "'''\n",
    "DROP INDEX IF EXISTS idx_message_sender;\n",
    "DROP INDEX IF EXISTS idx_message_receiver;\n",
    "'''"
   ]
  }
 ],
 "metadata": {
  "kernelspec": {
   "display_name": "Python 3",
   "language": "python",
   "name": "python3"
  },
  "language_info": {
   "codemirror_mode": {
    "name": "ipython",
    "version": 3
   },
   "file_extension": ".py",
   "mimetype": "text/x-python",
   "name": "python",
   "nbconvert_exporter": "python",
   "pygments_lexer": "ipython3",
   "version": "3.12.3"
  }
 },
 "nbformat": 4,
 "nbformat_minor": 2
}
